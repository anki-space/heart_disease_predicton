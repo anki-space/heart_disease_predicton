{
 "cells": [
  {
   "cell_type": "markdown",
   "metadata": {},
   "source": [
    "**IMPORTING LIBRARIES**"
   ]
  },
  {
   "cell_type": "code",
   "execution_count": 2,
   "metadata": {},
   "outputs": [],
   "source": [
    "import pandas as pd\n",
    "import numpy as np"
   ]
  },
  {
   "cell_type": "markdown",
   "metadata": {},
   "source": [
    "- Importing data into dataframe from csv"
   ]
  },
  {
   "cell_type": "code",
   "execution_count": 3,
   "metadata": {},
   "outputs": [],
   "source": [
    "df=pd.read_csv(\"Patient_Health_Data.csv\")"
   ]
  },
  {
   "cell_type": "markdown",
   "metadata": {},
   "source": [
    "- Reading First 5 rows of the dataset"
   ]
  },
  {
   "cell_type": "code",
   "execution_count": 4,
   "metadata": {},
   "outputs": [
    {
     "data": {
      "text/html": [
       "<div>\n",
       "<style scoped>\n",
       "    .dataframe tbody tr th:only-of-type {\n",
       "        vertical-align: middle;\n",
       "    }\n",
       "\n",
       "    .dataframe tbody tr th {\n",
       "        vertical-align: top;\n",
       "    }\n",
       "\n",
       "    .dataframe thead th {\n",
       "        text-align: right;\n",
       "    }\n",
       "</style>\n",
       "<table border=\"1\" class=\"dataframe\">\n",
       "  <thead>\n",
       "    <tr style=\"text-align: right;\">\n",
       "      <th></th>\n",
       "      <th>Patient_ID</th>\n",
       "      <th>Height_cm</th>\n",
       "      <th>Weight_kg</th>\n",
       "      <th>Blood_Pressure</th>\n",
       "      <th>Temperature_C</th>\n",
       "      <th>Heart_Rate</th>\n",
       "      <th>Symptoms</th>\n",
       "      <th>Existing_Conditions</th>\n",
       "      <th>Disease_Predictions</th>\n",
       "      <th>Laboratory_Test_Results</th>\n",
       "      <th>Cholesterol_mg_dL</th>\n",
       "      <th>Blood_Sugar_mg_dL</th>\n",
       "      <th>Family_History_Heart_Disease</th>\n",
       "      <th>Smoking_Status</th>\n",
       "    </tr>\n",
       "  </thead>\n",
       "  <tbody>\n",
       "    <tr>\n",
       "      <th>0</th>\n",
       "      <td>P0001</td>\n",
       "      <td>174.0</td>\n",
       "      <td>59.0</td>\n",
       "      <td>120/80</td>\n",
       "      <td>36.6</td>\n",
       "      <td>63.0</td>\n",
       "      <td>chest pain</td>\n",
       "      <td>Diabetes</td>\n",
       "      <td>Heart Disease</td>\n",
       "      <td>High Cholesterol</td>\n",
       "      <td>198.0</td>\n",
       "      <td>79.0</td>\n",
       "      <td>Yes</td>\n",
       "      <td>Never</td>\n",
       "    </tr>\n",
       "    <tr>\n",
       "      <th>1</th>\n",
       "      <td>P0002</td>\n",
       "      <td>NaN</td>\n",
       "      <td>67.0</td>\n",
       "      <td>130/85</td>\n",
       "      <td>37.0</td>\n",
       "      <td>68.0</td>\n",
       "      <td>shortness of breath</td>\n",
       "      <td>Hypertension</td>\n",
       "      <td>Coronary Artery Disease</td>\n",
       "      <td>NaN</td>\n",
       "      <td>179.0</td>\n",
       "      <td>90.0</td>\n",
       "      <td>No</td>\n",
       "      <td>Former</td>\n",
       "    </tr>\n",
       "    <tr>\n",
       "      <th>2</th>\n",
       "      <td>P0003</td>\n",
       "      <td>176.0</td>\n",
       "      <td>58.0</td>\n",
       "      <td>140/90</td>\n",
       "      <td>37.0</td>\n",
       "      <td>65.0</td>\n",
       "      <td>fatigue</td>\n",
       "      <td>High Cholesterol</td>\n",
       "      <td>Arrhythmia</td>\n",
       "      <td>Normal</td>\n",
       "      <td>193.0</td>\n",
       "      <td>82.0</td>\n",
       "      <td>NaN</td>\n",
       "      <td>Current</td>\n",
       "    </tr>\n",
       "    <tr>\n",
       "      <th>3</th>\n",
       "      <td>P0004</td>\n",
       "      <td>185.0</td>\n",
       "      <td>65.0</td>\n",
       "      <td>125/82</td>\n",
       "      <td>37.2</td>\n",
       "      <td>69.0</td>\n",
       "      <td>dizziness</td>\n",
       "      <td>NaN</td>\n",
       "      <td>NaN</td>\n",
       "      <td>NaN</td>\n",
       "      <td>228.0</td>\n",
       "      <td>103.0</td>\n",
       "      <td>No</td>\n",
       "      <td>Never</td>\n",
       "    </tr>\n",
       "    <tr>\n",
       "      <th>4</th>\n",
       "      <td>P0005</td>\n",
       "      <td>167.0</td>\n",
       "      <td>41.0</td>\n",
       "      <td>135/88</td>\n",
       "      <td>36.3</td>\n",
       "      <td>72.0</td>\n",
       "      <td>palpitations</td>\n",
       "      <td>Asthma</td>\n",
       "      <td>Hypertension</td>\n",
       "      <td>NaN</td>\n",
       "      <td>251.0</td>\n",
       "      <td>135.0</td>\n",
       "      <td>Yes</td>\n",
       "      <td>Former</td>\n",
       "    </tr>\n",
       "  </tbody>\n",
       "</table>\n",
       "</div>"
      ],
      "text/plain": [
       "  Patient_ID  Height_cm  Weight_kg Blood_Pressure  Temperature_C  Heart_Rate  \\\n",
       "0      P0001      174.0       59.0         120/80           36.6        63.0   \n",
       "1      P0002        NaN       67.0         130/85           37.0        68.0   \n",
       "2      P0003      176.0       58.0         140/90           37.0        65.0   \n",
       "3      P0004      185.0       65.0         125/82           37.2        69.0   \n",
       "4      P0005      167.0       41.0         135/88           36.3        72.0   \n",
       "\n",
       "              Symptoms Existing_Conditions      Disease_Predictions  \\\n",
       "0           chest pain            Diabetes            Heart Disease   \n",
       "1  shortness of breath        Hypertension  Coronary Artery Disease   \n",
       "2              fatigue    High Cholesterol               Arrhythmia   \n",
       "3            dizziness                 NaN                      NaN   \n",
       "4         palpitations              Asthma             Hypertension   \n",
       "\n",
       "  Laboratory_Test_Results  Cholesterol_mg_dL  Blood_Sugar_mg_dL  \\\n",
       "0        High Cholesterol              198.0               79.0   \n",
       "1                     NaN              179.0               90.0   \n",
       "2                  Normal              193.0               82.0   \n",
       "3                     NaN              228.0              103.0   \n",
       "4                     NaN              251.0              135.0   \n",
       "\n",
       "  Family_History_Heart_Disease Smoking_Status  \n",
       "0                          Yes          Never  \n",
       "1                           No         Former  \n",
       "2                          NaN        Current  \n",
       "3                           No          Never  \n",
       "4                          Yes         Former  "
      ]
     },
     "execution_count": 4,
     "metadata": {},
     "output_type": "execute_result"
    }
   ],
   "source": [
    "df.head(5)"
   ]
  },
  {
   "cell_type": "markdown",
   "metadata": {},
   "source": [
    "- Finding columns name"
   ]
  },
  {
   "cell_type": "code",
   "execution_count": 5,
   "metadata": {},
   "outputs": [
    {
     "data": {
      "text/plain": [
       "Index(['Patient_ID', 'Height_cm', 'Weight_kg', 'Blood_Pressure',\n",
       "       'Temperature_C', 'Heart_Rate', 'Symptoms', 'Existing_Conditions',\n",
       "       'Disease_Predictions', 'Laboratory_Test_Results', 'Cholesterol_mg_dL',\n",
       "       'Blood_Sugar_mg_dL', 'Family_History_Heart_Disease', 'Smoking_Status'],\n",
       "      dtype='object')"
      ]
     },
     "execution_count": 5,
     "metadata": {},
     "output_type": "execute_result"
    }
   ],
   "source": [
    "df.columns"
   ]
  },
  {
   "cell_type": "markdown",
   "metadata": {},
   "source": [
    "- Finding number of ROWS and COLUMNS"
   ]
  },
  {
   "cell_type": "code",
   "execution_count": 6,
   "metadata": {},
   "outputs": [
    {
     "data": {
      "text/plain": [
       "(2000, 14)"
      ]
     },
     "execution_count": 6,
     "metadata": {},
     "output_type": "execute_result"
    }
   ],
   "source": [
    "df.shape"
   ]
  },
  {
   "cell_type": "markdown",
   "metadata": {},
   "source": [
    "- Basic info of data"
   ]
  },
  {
   "cell_type": "code",
   "execution_count": 7,
   "metadata": {},
   "outputs": [
    {
     "name": "stdout",
     "output_type": "stream",
     "text": [
      "<class 'pandas.core.frame.DataFrame'>\n",
      "RangeIndex: 2000 entries, 0 to 1999\n",
      "Data columns (total 14 columns):\n",
      " #   Column                        Non-Null Count  Dtype  \n",
      "---  ------                        --------------  -----  \n",
      " 0   Patient_ID                    2000 non-null   object \n",
      " 1   Height_cm                     1915 non-null   float64\n",
      " 2   Weight_kg                     1914 non-null   float64\n",
      " 3   Blood_Pressure                1640 non-null   object \n",
      " 4   Temperature_C                 1892 non-null   float64\n",
      " 5   Heart_Rate                    1903 non-null   float64\n",
      " 6   Symptoms                      1562 non-null   object \n",
      " 7   Existing_Conditions           1488 non-null   object \n",
      " 8   Disease_Predictions           1488 non-null   object \n",
      " 9   Laboratory_Test_Results       1505 non-null   object \n",
      " 10  Cholesterol_mg_dL             1899 non-null   float64\n",
      " 11  Blood_Sugar_mg_dL             1880 non-null   float64\n",
      " 12  Family_History_Heart_Disease  1891 non-null   object \n",
      " 13  Smoking_Status                1911 non-null   object \n",
      "dtypes: float64(6), object(8)\n",
      "memory usage: 218.9+ KB\n"
     ]
    }
   ],
   "source": [
    "df.info()"
   ]
  },
  {
   "cell_type": "code",
   "execution_count": 8,
   "metadata": {},
   "outputs": [
    {
     "data": {
      "text/html": [
       "<div>\n",
       "<style scoped>\n",
       "    .dataframe tbody tr th:only-of-type {\n",
       "        vertical-align: middle;\n",
       "    }\n",
       "\n",
       "    .dataframe tbody tr th {\n",
       "        vertical-align: top;\n",
       "    }\n",
       "\n",
       "    .dataframe thead th {\n",
       "        text-align: right;\n",
       "    }\n",
       "</style>\n",
       "<table border=\"1\" class=\"dataframe\">\n",
       "  <thead>\n",
       "    <tr style=\"text-align: right;\">\n",
       "      <th></th>\n",
       "      <th>count</th>\n",
       "      <th>mean</th>\n",
       "      <th>std</th>\n",
       "      <th>min</th>\n",
       "      <th>25%</th>\n",
       "      <th>50%</th>\n",
       "      <th>75%</th>\n",
       "      <th>max</th>\n",
       "    </tr>\n",
       "  </thead>\n",
       "  <tbody>\n",
       "    <tr>\n",
       "      <th>Height_cm</th>\n",
       "      <td>1915.0</td>\n",
       "      <td>169.902350</td>\n",
       "      <td>9.842987</td>\n",
       "      <td>137.0</td>\n",
       "      <td>163.0</td>\n",
       "      <td>170.0</td>\n",
       "      <td>176.0</td>\n",
       "      <td>208.0</td>\n",
       "    </tr>\n",
       "    <tr>\n",
       "      <th>Weight_kg</th>\n",
       "      <td>1914.0</td>\n",
       "      <td>69.388715</td>\n",
       "      <td>15.047664</td>\n",
       "      <td>24.0</td>\n",
       "      <td>59.0</td>\n",
       "      <td>70.0</td>\n",
       "      <td>79.0</td>\n",
       "      <td>128.0</td>\n",
       "    </tr>\n",
       "    <tr>\n",
       "      <th>Temperature_C</th>\n",
       "      <td>1892.0</td>\n",
       "      <td>36.970983</td>\n",
       "      <td>0.497384</td>\n",
       "      <td>35.4</td>\n",
       "      <td>36.7</td>\n",
       "      <td>37.0</td>\n",
       "      <td>37.3</td>\n",
       "      <td>38.6</td>\n",
       "    </tr>\n",
       "    <tr>\n",
       "      <th>Heart_Rate</th>\n",
       "      <td>1903.0</td>\n",
       "      <td>74.567525</td>\n",
       "      <td>10.325641</td>\n",
       "      <td>38.0</td>\n",
       "      <td>67.0</td>\n",
       "      <td>74.0</td>\n",
       "      <td>82.0</td>\n",
       "      <td>110.0</td>\n",
       "    </tr>\n",
       "    <tr>\n",
       "      <th>Cholesterol_mg_dL</th>\n",
       "      <td>1899.0</td>\n",
       "      <td>199.612954</td>\n",
       "      <td>39.454690</td>\n",
       "      <td>43.0</td>\n",
       "      <td>174.0</td>\n",
       "      <td>200.0</td>\n",
       "      <td>226.0</td>\n",
       "      <td>335.0</td>\n",
       "    </tr>\n",
       "    <tr>\n",
       "      <th>Blood_Sugar_mg_dL</th>\n",
       "      <td>1880.0</td>\n",
       "      <td>99.007447</td>\n",
       "      <td>29.952720</td>\n",
       "      <td>-1.0</td>\n",
       "      <td>79.0</td>\n",
       "      <td>99.0</td>\n",
       "      <td>119.0</td>\n",
       "      <td>201.0</td>\n",
       "    </tr>\n",
       "  </tbody>\n",
       "</table>\n",
       "</div>"
      ],
      "text/plain": [
       "                    count        mean        std    min    25%    50%    75%  \\\n",
       "Height_cm          1915.0  169.902350   9.842987  137.0  163.0  170.0  176.0   \n",
       "Weight_kg          1914.0   69.388715  15.047664   24.0   59.0   70.0   79.0   \n",
       "Temperature_C      1892.0   36.970983   0.497384   35.4   36.7   37.0   37.3   \n",
       "Heart_Rate         1903.0   74.567525  10.325641   38.0   67.0   74.0   82.0   \n",
       "Cholesterol_mg_dL  1899.0  199.612954  39.454690   43.0  174.0  200.0  226.0   \n",
       "Blood_Sugar_mg_dL  1880.0   99.007447  29.952720   -1.0   79.0   99.0  119.0   \n",
       "\n",
       "                     max  \n",
       "Height_cm          208.0  \n",
       "Weight_kg          128.0  \n",
       "Temperature_C       38.6  \n",
       "Heart_Rate         110.0  \n",
       "Cholesterol_mg_dL  335.0  \n",
       "Blood_Sugar_mg_dL  201.0  "
      ]
     },
     "execution_count": 8,
     "metadata": {},
     "output_type": "execute_result"
    }
   ],
   "source": [
    "df.describe().T"
   ]
  },
  {
   "cell_type": "markdown",
   "metadata": {},
   "source": [
    "Spliting columns based on data type"
   ]
  },
  {
   "cell_type": "code",
   "execution_count": 9,
   "metadata": {},
   "outputs": [],
   "source": [
    "num_columns = df.select_dtypes(include=[np.number]).columns\n",
    "cat_columns = df.select_dtypes(exclude=[np.number]).columns"
   ]
  },
  {
   "cell_type": "code",
   "execution_count": 10,
   "metadata": {},
   "outputs": [
    {
     "name": "stdout",
     "output_type": "stream",
     "text": [
      "Numerical columns \n",
      " Index(['Height_cm', 'Weight_kg', 'Temperature_C', 'Heart_Rate',\n",
      "       'Cholesterol_mg_dL', 'Blood_Sugar_mg_dL'],\n",
      "      dtype='object')\n",
      "Categorical columns \n",
      " Index(['Patient_ID', 'Blood_Pressure', 'Symptoms', 'Existing_Conditions',\n",
      "       'Disease_Predictions', 'Laboratory_Test_Results',\n",
      "       'Family_History_Heart_Disease', 'Smoking_Status'],\n",
      "      dtype='object')\n"
     ]
    }
   ],
   "source": [
    "print(\"Numerical columns \\n\",num_columns)\n",
    "print(\"Categorical columns \\n\",cat_columns)"
   ]
  },
  {
   "cell_type": "markdown",
   "metadata": {},
   "source": [
    "**Cleaning Numerical Columns**"
   ]
  },
  {
   "cell_type": "code",
   "execution_count": 11,
   "metadata": {},
   "outputs": [],
   "source": [
    "import seaborn as sns \n",
    "import matplotlib.pyplot as plt"
   ]
  },
  {
   "cell_type": "code",
   "execution_count": 12,
   "metadata": {},
   "outputs": [
    {
     "data": {
      "image/png": "[encoded data removed]",
      "text/plain": [
       "<Figure size 640x480 with 1 Axes>"
      ]
     },
     "metadata": {},
     "output_type": "display_data"
    },
    {
     "data": {
      "image/png": "[encoded data removed]",
      "text/plain": [
       "<Figure size 640x480 with 1 Axes>"
      ]
     },
     "metadata": {},
     "output_type": "display_data"
    },
    {
     "data": {
      "image/png": "[encoded data removed]",
      "text/plain": [
       "<Figure size 640x480 with 1 Axes>"
      ]
     },
     "metadata": {},
     "output_type": "display_data"
    },
    {
     "data": {
      "image/png": "[encoded data removed]",
      "text/plain": [
       "<Figure size 640x480 with 1 Axes>"
      ]
     },
     "metadata": {},
     "output_type": "display_data"
    },
    {
     "data": {
      "image/png": "[encoded data removed]",
      "text/plain": [
       "<Figure size 640x480 with 1 Axes>"
      ]
     },
     "metadata": {},
     "output_type": "display_data"
    },
    {
     "data": {
      "image/png": "[encoded data removed]",
      "text/plain": [
       "<Figure size 640x480 with 1 Axes>"
      ]
     },
     "metadata": {},
     "output_type": "display_data"
    }
   ],
   "source": [
    "for col in num_columns:\n",
    "    plt.hist(df[col])\n",
    "    plt.title(col)\n",
    "    plt.show()"
   ]
  },
  {
   "cell_type": "markdown",
   "metadata": {},
   "source": [
    "As all the numerical data are in form of Normal distribution hence null values can be replaced by mean values."
   ]
  },
  {
   "cell_type": "code",
   "execution_count": 13,
   "metadata": {},
   "outputs": [],
   "source": [
    "for col in num_columns:\n",
    "        df[col].fillna(df[col].mean(), inplace=True)"
   ]
  },
  {
   "cell_type": "code",
   "execution_count": 14,
   "metadata": {},
   "outputs": [
    {
     "name": "stdout",
     "output_type": "stream",
     "text": [
      "<class 'pandas.core.frame.DataFrame'>\n",
      "RangeIndex: 2000 entries, 0 to 1999\n",
      "Data columns (total 14 columns):\n",
      " #   Column                        Non-Null Count  Dtype  \n",
      "---  ------                        --------------  -----  \n",
      " 0   Patient_ID                    2000 non-null   object \n",
      " 1   Height_cm                     2000 non-null   float64\n",
      " 2   Weight_kg                     2000 non-null   float64\n",
      " 3   Blood_Pressure                1640 non-null   object \n",
      " 4   Temperature_C                 2000 non-null   float64\n",
      " 5   Heart_Rate                    2000 non-null   float64\n",
      " 6   Symptoms                      1562 non-null   object \n",
      " 7   Existing_Conditions           1488 non-null   object \n",
      " 8   Disease_Predictions           1488 non-null   object \n",
      " 9   Laboratory_Test_Results       1505 non-null   object \n",
      " 10  Cholesterol_mg_dL             2000 non-null   float64\n",
      " 11  Blood_Sugar_mg_dL             2000 non-null   float64\n",
      " 12  Family_History_Heart_Disease  1891 non-null   object \n",
      " 13  Smoking_Status                1911 non-null   object \n",
      "dtypes: float64(6), object(8)\n",
      "memory usage: 218.9+ KB\n"
     ]
    }
   ],
   "source": [
    "df.info()"
   ]
  },
  {
   "cell_type": "code",
   "execution_count": 15,
   "metadata": {},
   "outputs": [
    {
     "data": {
      "image/png": "[encoded data removed]",
      "text/plain": [
       "<Figure size 1200x800 with 2 Axes>"
      ]
     },
     "metadata": {},
     "output_type": "display_data"
    }
   ],
   "source": [
    "import seaborn as sns\n",
    "import matplotlib.pyplot as plt\n",
    "\n",
    "# Select numerical columns from the DataFrame\n",
    "num_data = df.select_dtypes(include=['float64', 'int64'])\n",
    "\n",
    "# Compute correlation matrix\n",
    "correlation_matrix = num_data.corr()\n",
    "\n",
    "# Display the correlation matrix as a heatmap\n",
    "plt.figure(figsize=(12, 8))\n",
    "sns.heatmap(correlation_matrix, annot=True, cmap=\"coolwarm\", fmt=\".2f\", linewidths=0.5)\n",
    "plt.title(\"Correlation Matrix\")\n",
    "plt.show()\n"
   ]
  },
  {
   "cell_type": "markdown",
   "metadata": {},
   "source": [
    "From the above confusion matrix we can see there is a no significant relation between any two columns"
   ]
  },
  {
   "cell_type": "markdown",
   "metadata": {},
   "source": [
    "As from the dataset we know that the Disease_Predictions is our TARGET VARIABLE."
   ]
  },
  {
   "cell_type": "code",
   "execution_count": 16,
   "metadata": {},
   "outputs": [
    {
     "data": {
      "text/plain": [
       "512"
      ]
     },
     "execution_count": 16,
     "metadata": {},
     "output_type": "execute_result"
    }
   ],
   "source": [
    "df[\"Disease_Predictions\"].isnull().sum()"
   ]
  },
  {
   "cell_type": "code",
   "execution_count": 17,
   "metadata": {},
   "outputs": [
    {
     "data": {
      "text/plain": [
       "array(['Diabetes', 'Hypertension', 'High Cholesterol', nan, 'Asthma',\n",
       "       'Thyroid'], dtype=object)"
      ]
     },
     "execution_count": 17,
     "metadata": {},
     "output_type": "execute_result"
    }
   ],
   "source": [
    "df[\"Existing_Conditions\"].unique()"
   ]
  },
  {
   "cell_type": "code",
   "execution_count": 18,
   "metadata": {},
   "outputs": [
    {
     "data": {
      "text/plain": [
       "array(['Heart Disease', 'Coronary Artery Disease', 'Arrhythmia', nan,\n",
       "       'Hypertension', 'Stroke'], dtype=object)"
      ]
     },
     "execution_count": 18,
     "metadata": {},
     "output_type": "execute_result"
    }
   ],
   "source": [
    "df[\"Disease_Predictions\"].unique()"
   ]
  },
  {
   "cell_type": "code",
   "execution_count": 19,
   "metadata": {},
   "outputs": [
    {
     "data": {
      "text/plain": [
       "Existing_Conditions  Disease_Predictions    \n",
       "Asthma               Hypertension               266\n",
       "Diabetes             Heart Disease              269\n",
       "High Cholesterol     Arrhythmia                 267\n",
       "Hypertension         Coronary Artery Disease    261\n",
       "Name: count, dtype: int64"
      ]
     },
     "execution_count": 19,
     "metadata": {},
     "output_type": "execute_result"
    }
   ],
   "source": [
    "df.groupby('Existing_Conditions')[\"Disease_Predictions\"].value_counts()"
   ]
  },
  {
   "cell_type": "markdown",
   "metadata": {},
   "source": [
    "From the above cell we can see there is a realtion between Existing_Conditions and Disease_Predictions Columns."
   ]
  },
  {
   "cell_type": "markdown",
   "metadata": {},
   "source": [
    "Hence using Existing_Conditions columns to fill null values of Disease_Predictions column."
   ]
  },
  {
   "cell_type": "code",
   "execution_count": 20,
   "metadata": {},
   "outputs": [],
   "source": [
    "df.loc[(df['Existing_Conditions'] == 'Diabetes') & (df['Disease_Predictions'].isna()), 'Disease_Predictions'] = 'Heart Disease'"
   ]
  },
  {
   "cell_type": "code",
   "execution_count": 21,
   "metadata": {},
   "outputs": [],
   "source": [
    "df.loc[(df['Existing_Conditions'] == 'Asthma') & (df['Disease_Predictions'].isna()), 'Disease_Predictions'] = 'Hypertension'"
   ]
  },
  {
   "cell_type": "code",
   "execution_count": 22,
   "metadata": {},
   "outputs": [],
   "source": [
    "df.loc[(df['Existing_Conditions'] == 'High Cholesterol') & (df['Disease_Predictions'].isna()), 'Disease_Predictions'] = 'Arrhythmia'"
   ]
  },
  {
   "cell_type": "code",
   "execution_count": 23,
   "metadata": {},
   "outputs": [],
   "source": [
    "df.loc[(df['Existing_Conditions'] == 'Hypertension') & (df['Disease_Predictions'].isna()), 'Disease_Predictions'] ='Coronary Artery Disease'"
   ]
  },
  {
   "cell_type": "code",
   "execution_count": 24,
   "metadata": {},
   "outputs": [
    {
     "name": "stdout",
     "output_type": "stream",
     "text": [
      "<class 'pandas.core.frame.DataFrame'>\n",
      "RangeIndex: 2000 entries, 0 to 1999\n",
      "Data columns (total 14 columns):\n",
      " #   Column                        Non-Null Count  Dtype  \n",
      "---  ------                        --------------  -----  \n",
      " 0   Patient_ID                    2000 non-null   object \n",
      " 1   Height_cm                     2000 non-null   float64\n",
      " 2   Weight_kg                     2000 non-null   float64\n",
      " 3   Blood_Pressure                1640 non-null   object \n",
      " 4   Temperature_C                 2000 non-null   float64\n",
      " 5   Heart_Rate                    2000 non-null   float64\n",
      " 6   Symptoms                      1562 non-null   object \n",
      " 7   Existing_Conditions           1488 non-null   object \n",
      " 8   Disease_Predictions           1611 non-null   object \n",
      " 9   Laboratory_Test_Results       1505 non-null   object \n",
      " 10  Cholesterol_mg_dL             2000 non-null   float64\n",
      " 11  Blood_Sugar_mg_dL             2000 non-null   float64\n",
      " 12  Family_History_Heart_Disease  1891 non-null   object \n",
      " 13  Smoking_Status                1911 non-null   object \n",
      "dtypes: float64(6), object(8)\n",
      "memory usage: 218.9+ KB\n"
     ]
    }
   ],
   "source": [
    "df.info()"
   ]
  },
  {
   "cell_type": "markdown",
   "metadata": {},
   "source": [
    "Removing the NULL values of Disease_Predictions columns which is left after data procesing"
   ]
  },
  {
   "cell_type": "code",
   "execution_count": 25,
   "metadata": {},
   "outputs": [],
   "source": [
    "df = df.dropna(subset=['Disease_Predictions'])"
   ]
  },
  {
   "cell_type": "markdown",
   "metadata": {},
   "source": [
    "Filling NULL Values of Categorical values with mode"
   ]
  },
  {
   "cell_type": "code",
   "execution_count": 26,
   "metadata": {},
   "outputs": [],
   "source": [
    "for col in cat_columns:\n",
    "    df[col].fillna(df[col].mode(), inplace=True)\n"
   ]
  },
  {
   "cell_type": "code",
   "execution_count": 27,
   "metadata": {},
   "outputs": [
    {
     "name": "stdout",
     "output_type": "stream",
     "text": [
      "<class 'pandas.core.frame.DataFrame'>\n",
      "Index: 1611 entries, 0 to 1999\n",
      "Data columns (total 14 columns):\n",
      " #   Column                        Non-Null Count  Dtype  \n",
      "---  ------                        --------------  -----  \n",
      " 0   Patient_ID                    1611 non-null   object \n",
      " 1   Height_cm                     1611 non-null   float64\n",
      " 2   Weight_kg                     1611 non-null   float64\n",
      " 3   Blood_Pressure                1320 non-null   object \n",
      " 4   Temperature_C                 1611 non-null   float64\n",
      " 5   Heart_Rate                    1611 non-null   float64\n",
      " 6   Symptoms                      1254 non-null   object \n",
      " 7   Existing_Conditions           1186 non-null   object \n",
      " 8   Disease_Predictions           1611 non-null   object \n",
      " 9   Laboratory_Test_Results       1211 non-null   object \n",
      " 10  Cholesterol_mg_dL             1611 non-null   float64\n",
      " 11  Blood_Sugar_mg_dL             1611 non-null   float64\n",
      " 12  Family_History_Heart_Disease  1515 non-null   object \n",
      " 13  Smoking_Status                1537 non-null   object \n",
      "dtypes: float64(6), object(8)\n",
      "memory usage: 188.8+ KB\n"
     ]
    }
   ],
   "source": [
    "df.info()"
   ]
  },
  {
   "cell_type": "code",
   "execution_count": 28,
   "metadata": {},
   "outputs": [
    {
     "data": {
      "text/plain": [
       "Patient_ID                        0\n",
       "Height_cm                         0\n",
       "Weight_kg                         0\n",
       "Blood_Pressure                  291\n",
       "Temperature_C                     0\n",
       "Heart_Rate                        0\n",
       "Symptoms                        357\n",
       "Existing_Conditions             425\n",
       "Disease_Predictions               0\n",
       "Laboratory_Test_Results         400\n",
       "Cholesterol_mg_dL                 0\n",
       "Blood_Sugar_mg_dL                 0\n",
       "Family_History_Heart_Disease     96\n",
       "Smoking_Status                   74\n",
       "dtype: int64"
      ]
     },
     "execution_count": 28,
     "metadata": {},
     "output_type": "execute_result"
    }
   ],
   "source": [
    "df.isnull().sum()"
   ]
  },
  {
   "cell_type": "markdown",
   "metadata": {},
   "source": [
    "Saving the CLeaned data for futher use."
   ]
  },
  {
   "cell_type": "code",
   "execution_count": 29,
   "metadata": {},
   "outputs": [],
   "source": [
    "df.to_excel(\"Patient_Health_Data_Cleaned.xlsx\", index=False)"
   ]
  },
  {
   "cell_type": "code",
   "execution_count": 30,
   "metadata": {},
   "outputs": [],
   "source": [
    "from sklearn.model_selection import train_test_split\n",
    "from sklearn.preprocessing import LabelEncoder, StandardScaler\n",
    "from sklearn.neighbors import KNeighborsClassifier\n",
    "from sklearn.metrics import classification_report, accuracy_score"
   ]
  },
  {
   "cell_type": "code",
   "execution_count": 31,
   "metadata": {},
   "outputs": [],
   "source": [
    "data=pd.read_excel(\"Patient_Health_Data_Cleaned.xlsx\")"
   ]
  },
  {
   "cell_type": "markdown",
   "metadata": {},
   "source": [
    "Encode categorical variables"
   ]
  },
  {
   "cell_type": "code",
   "execution_count": 32,
   "metadata": {},
   "outputs": [],
   "source": [
    "encoder = LabelEncoder()\n",
    "for col in data.select_dtypes(include=['object']).columns:\n",
    "    data[col] = encoder.fit_transform(data[col])"
   ]
  },
  {
   "cell_type": "markdown",
   "metadata": {},
   "source": [
    "Define features and target"
   ]
  },
  {
   "cell_type": "code",
   "execution_count": 33,
   "metadata": {},
   "outputs": [],
   "source": [
    "X = data.drop('Disease_Predictions', axis=1)\n",
    "y = data['Disease_Predictions']"
   ]
  },
  {
   "cell_type": "markdown",
   "metadata": {},
   "source": [
    "Train-Test-Validation Split"
   ]
  },
  {
   "cell_type": "code",
   "execution_count": 34,
   "metadata": {},
   "outputs": [],
   "source": [
    "X_train, X_temp, y_train, y_temp = train_test_split(X, y, test_size=0.3, random_state=48)\n",
    "X_val, X_test, y_val, y_test = train_test_split(X_temp, y_temp, test_size=0.5, random_state=48)\n"
   ]
  },
  {
   "cell_type": "markdown",
   "metadata": {},
   "source": [
    "Scale the features"
   ]
  },
  {
   "cell_type": "code",
   "execution_count": 35,
   "metadata": {},
   "outputs": [],
   "source": [
    "scaler = StandardScaler()\n",
    "X_train = scaler.fit_transform(X_train)\n",
    "X_val = scaler.transform(X_val)\n",
    "X_test = scaler.transform(X_test)"
   ]
  },
  {
   "cell_type": "markdown",
   "metadata": {},
   "source": [
    "Train KNN Model"
   ]
  },
  {
   "cell_type": "code",
   "execution_count": 36,
   "metadata": {},
   "outputs": [
    {
     "data": {
      "text/html": [
       "<style>#sk-container-id-1 {color: black;}#sk-container-id-1 pre{padding: 0;}#sk-container-id-1 div.sk-toggleable {background-color: white;}#sk-container-id-1 label.sk-toggleable__label {cursor: pointer;display: block;width: 100%;margin-bottom: 0;padding: 0.3em;box-sizing: border-box;text-align: center;}#sk-container-id-1 label.sk-toggleable__label-arrow:before {content: \"▸\";float: left;margin-right: 0.25em;color: #696969;}#sk-container-id-1 label.sk-toggleable__label-arrow:hover:before {color: black;}#sk-container-id-1 div.sk-estimator:hover label.sk-toggleable__label-arrow:before {color: black;}#sk-container-id-1 div.sk-toggleable__content {max-height: 0;max-width: 0;overflow: hidden;text-align: left;background-color: #f0f8ff;}#sk-container-id-1 div.sk-toggleable__content pre {margin: 0.2em;color: black;border-radius: 0.25em;background-color: #f0f8ff;}#sk-container-id-1 input.sk-toggleable__control:checked~div.sk-toggleable__content {max-height: 200px;max-width: 100%;overflow: auto;}#sk-container-id-1 input.sk-toggleable__control:checked~label.sk-toggleable__label-arrow:before {content: \"▾\";}#sk-container-id-1 div.sk-estimator input.sk-toggleable__control:checked~label.sk-toggleable__label {background-color: #d4ebff;}#sk-container-id-1 div.sk-label input.sk-toggleable__control:checked~label.sk-toggleable__label {background-color: #d4ebff;}#sk-container-id-1 input.sk-hidden--visually {border: 0;clip: rect(1px 1px 1px 1px);clip: rect(1px, 1px, 1px, 1px);height: 1px;margin: -1px;overflow: hidden;padding: 0;position: absolute;width: 1px;}#sk-container-id-1 div.sk-estimator {font-family: monospace;background-color: #f0f8ff;border: 1px dotted black;border-radius: 0.25em;box-sizing: border-box;margin-bottom: 0.5em;}#sk-container-id-1 div.sk-estimator:hover {background-color: #d4ebff;}#sk-container-id-1 div.sk-parallel-item::after {content: \"\";width: 100%;border-bottom: 1px solid gray;flex-grow: 1;}#sk-container-id-1 div.sk-label:hover label.sk-toggleable__label {background-color: #d4ebff;}#sk-container-id-1 div.sk-serial::before {content: \"\";position: absolute;border-left: 1px solid gray;box-sizing: border-box;top: 0;bottom: 0;left: 50%;z-index: 0;}#sk-container-id-1 div.sk-serial {display: flex;flex-direction: column;align-items: center;background-color: white;padding-right: 0.2em;padding-left: 0.2em;position: relative;}#sk-container-id-1 div.sk-item {position: relative;z-index: 1;}#sk-container-id-1 div.sk-parallel {display: flex;align-items: stretch;justify-content: center;background-color: white;position: relative;}#sk-container-id-1 div.sk-item::before, #sk-container-id-1 div.sk-parallel-item::before {content: \"\";position: absolute;border-left: 1px solid gray;box-sizing: border-box;top: 0;bottom: 0;left: 50%;z-index: -1;}#sk-container-id-1 div.sk-parallel-item {display: flex;flex-direction: column;z-index: 1;position: relative;background-color: white;}#sk-container-id-1 div.sk-parallel-item:first-child::after {align-self: flex-end;width: 50%;}#sk-container-id-1 div.sk-parallel-item:last-child::after {align-self: flex-start;width: 50%;}#sk-container-id-1 div.sk-parallel-item:only-child::after {width: 0;}#sk-container-id-1 div.sk-dashed-wrapped {border: 1px dashed gray;margin: 0 0.4em 0.5em 0.4em;box-sizing: border-box;padding-bottom: 0.4em;background-color: white;}#sk-container-id-1 div.sk-label label {font-family: monospace;font-weight: bold;display: inline-block;line-height: 1.2em;}#sk-container-id-1 div.sk-label-container {text-align: center;}#sk-container-id-1 div.sk-container {/* jupyter's `normalize.less` sets `[hidden] { display: none; }` but bootstrap.min.css set `[hidden] { display: none !important; }` so we also need the `!important` here to be able to override the default hidden behavior on the sphinx rendered scikit-learn.org. See: https://github.com/scikit-learn/scikit-learn/issues/21755 */display: inline-block !important;position: relative;}#sk-container-id-1 div.sk-text-repr-fallback {display: none;}</style><div id=\"sk-container-id-1\" class=\"sk-top-container\"><div class=\"sk-text-repr-fallback\"><pre>KNeighborsClassifier()</pre><b>In a Jupyter environment, please rerun this cell to show the HTML representation or trust the notebook. <br />On GitHub, the HTML representation is unable to render, please try loading this page with nbviewer.org.</b></div><div class=\"sk-container\" hidden><div class=\"sk-item\"><div class=\"sk-estimator sk-toggleable\"><input class=\"sk-toggleable__control sk-hidden--visually\" id=\"sk-estimator-id-1\" type=\"checkbox\" checked><label for=\"sk-estimator-id-1\" class=\"sk-toggleable__label sk-toggleable__label-arrow\">KNeighborsClassifier</label><div class=\"sk-toggleable__content\"><pre>KNeighborsClassifier()</pre></div></div></div></div></div>"
      ],
      "text/plain": [
       "KNeighborsClassifier()"
      ]
     },
     "execution_count": 36,
     "metadata": {},
     "output_type": "execute_result"
    }
   ],
   "source": [
    "knn = KNeighborsClassifier(n_neighbors=5)  # You can tune n_neighbors based on validation set\n",
    "knn.fit(X_train, y_train)"
   ]
  },
  {
   "cell_type": "markdown",
   "metadata": {},
   "source": [
    "Validate the Model"
   ]
  },
  {
   "cell_type": "code",
   "execution_count": 37,
   "metadata": {},
   "outputs": [
    {
     "name": "stdout",
     "output_type": "stream",
     "text": [
      "Validation Accuracy: 0.8471074380165289\n"
     ]
    }
   ],
   "source": [
    "y_val_pred = knn.predict(X_val)\n",
    "print(\"Validation Accuracy:\", accuracy_score(y_val, y_val_pred))\n"
   ]
  },
  {
   "cell_type": "markdown",
   "metadata": {},
   "source": [
    "Test the Model"
   ]
  },
  {
   "cell_type": "code",
   "execution_count": 38,
   "metadata": {},
   "outputs": [
    {
     "name": "stdout",
     "output_type": "stream",
     "text": [
      "Test Accuracy: 0.9090909090909091\n"
     ]
    }
   ],
   "source": [
    "y_test_pred = knn.predict(X_test)\n",
    "print(\"Test Accuracy:\", accuracy_score(y_test, y_test_pred))"
   ]
  },
  {
   "cell_type": "markdown",
   "metadata": {},
   "source": [
    "Classification Report"
   ]
  },
  {
   "cell_type": "code",
   "execution_count": 39,
   "metadata": {},
   "outputs": [
    {
     "name": "stdout",
     "output_type": "stream",
     "text": [
      "\n",
      "Classification Report on Test Data:\n",
      "              precision    recall  f1-score   support\n",
      "\n",
      "           0       0.93      1.00      0.96        50\n",
      "           1       0.88      0.86      0.87        50\n",
      "           2       0.93      0.96      0.95        54\n",
      "           3       1.00      0.85      0.92        52\n",
      "           4       0.79      0.86      0.83        36\n",
      "\n",
      "    accuracy                           0.91       242\n",
      "   macro avg       0.91      0.91      0.90       242\n",
      "weighted avg       0.91      0.91      0.91       242\n",
      "\n"
     ]
    }
   ],
   "source": [
    "print(\"\\nClassification Report on Test Data:\")\n",
    "print(classification_report(y_test, y_test_pred))"
   ]
  },
  {
   "cell_type": "code",
   "execution_count": 44,
   "metadata": {},
   "outputs": [
    {
     "data": {
      "image/png": "[encoded data removed]",
      "text/plain": [
       "<Figure size 800x600 with 2 Axes>"
      ]
     },
     "metadata": {},
     "output_type": "display_data"
    }
   ],
   "source": [
    "from sklearn.metrics import confusion_matrix, ConfusionMatrixDisplay\n",
    "conf_matrix = confusion_matrix(y_test,y_test_pred)\n",
    "disp = ConfusionMatrixDisplay(confusion_matrix=conf_matrix)\n",
    "plt.figure(figsize=(8, 6))\n",
    "disp.plot(cmap=\"viridis\", ax=plt.gca())  # Use the same figure\n",
    "plt.title(\"Confusion Matrix: Y_test vs. Y_pred\")\n",
    "plt.show()"
   ]
  },
  {
   "cell_type": "markdown",
   "metadata": {},
   "source": [
    "Save the trained model to a file"
   ]
  },
  {
   "cell_type": "code",
   "execution_count": 40,
   "metadata": {},
   "outputs": [
    {
     "data": {
      "text/plain": [
       "['knn_model_hdp.joblib']"
      ]
     },
     "execution_count": 40,
     "metadata": {},
     "output_type": "execute_result"
    }
   ],
   "source": [
    "import joblib\n",
    "\n",
    "joblib.dump(knn, 'knn_model_hdp.joblib')"
   ]
  },
  {
   "cell_type": "markdown",
   "metadata": {},
   "source": [
    "confusion matrix,saved the data after standard scaler,use validation for dfferent values of k"
   ]
  }
 ],
 "metadata": {
  "kernelspec": {
   "display_name": "Python 3",
   "language": "python",
   "name": "python3"
  },
  "language_info": {
   "codemirror_mode": {
    "name": "ipython",
    "version": 3
   },
   "file_extension": ".py",
   "mimetype": "text/x-python",
   "name": "python",
   "nbconvert_exporter": "python",
   "pygments_lexer": "ipython3",
   "version": "3.8.0"
  }
 },
 "nbformat": 4,
 "nbformat_minor": 2
}
